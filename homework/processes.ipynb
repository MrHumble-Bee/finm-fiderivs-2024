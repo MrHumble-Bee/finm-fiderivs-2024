{
 "cells": [
  {
   "cell_type": "code",
   "execution_count": 2,
   "metadata": {},
   "outputs": [],
   "source": [
    "import pandas as pd"
   ]
  },
  {
   "cell_type": "code",
   "execution_count": 1,
   "metadata": {},
   "outputs": [
    {
     "ename": "NameError",
     "evalue": "name 'pd' is not defined",
     "output_type": "error",
     "traceback": [
      "\u001b[1;31m---------------------------------------------------------------------------\u001b[0m",
      "\u001b[1;31mNameError\u001b[0m                                 Traceback (most recent call last)",
      "Cell \u001b[1;32mIn[1], line 1\u001b[0m\n\u001b[1;32m----> 1\u001b[0m \u001b[38;5;28;43;01mclass\u001b[39;49;00m\u001b[43m \u001b[49m\u001b[38;5;21;43;01mHomework1Part1\u001b[39;49;00m\u001b[43m:\u001b[49m\n\u001b[0;32m      2\u001b[0m \u001b[43m    \u001b[49m\u001b[38;5;28;43;01mdef\u001b[39;49;00m\u001b[43m \u001b[49m\u001b[38;5;21;43m__init__\u001b[39;49m\u001b[43m(\u001b[49m\u001b[38;5;28;43mself\u001b[39;49m\u001b[43m,\u001b[49m\u001b[43m \u001b[49m\u001b[43mrate_tree\u001b[49m\u001b[43m:\u001b[49m\u001b[43m \u001b[49m\u001b[43mpd\u001b[49m\u001b[38;5;241;43m.\u001b[39;49m\u001b[43mData\u001b[49m\u001b[43m)\u001b[49m\u001b[43m \u001b[49m\u001b[38;5;241;43m-\u001b[39;49m\u001b[38;5;241;43m>\u001b[39;49m\u001b[43m \u001b[49m\u001b[38;5;28;43;01mNone\u001b[39;49;00m\u001b[43m:\u001b[49m\n\u001b[0;32m      3\u001b[0m \u001b[43m        \u001b[49m\u001b[38;5;28;43;01mpass\u001b[39;49;00m\n",
      "Cell \u001b[1;32mIn[1], line 2\u001b[0m, in \u001b[0;36mHomework1Part1\u001b[1;34m()\u001b[0m\n\u001b[0;32m      1\u001b[0m \u001b[38;5;28;01mclass\u001b[39;00m \u001b[38;5;21;01mHomework1Part1\u001b[39;00m:\n\u001b[1;32m----> 2\u001b[0m     \u001b[38;5;28;01mdef\u001b[39;00m \u001b[38;5;21m__init__\u001b[39m(\u001b[38;5;28mself\u001b[39m, rate_tree: \u001b[43mpd\u001b[49m\u001b[38;5;241m.\u001b[39mData) \u001b[38;5;241m-\u001b[39m\u001b[38;5;241m>\u001b[39m \u001b[38;5;28;01mNone\u001b[39;00m:\n\u001b[0;32m      3\u001b[0m         \u001b[38;5;28;01mpass\u001b[39;00m\n",
      "\u001b[1;31mNameError\u001b[0m: name 'pd' is not defined"
     ]
    }
   ],
   "source": [
    "class Homework1Part1:\n",
    "    def __init__(self, rate_tree: pd.DataFrame, dt: float=0.5, T: int=1, face_value: int=100) -> None:\n",
    "        self.__rate_tree: pd.DataFrame\n",
    "        self.__bond_tree: pd.DataFrame\n",
    "        self.__swap_payoff_tree: pd.DataFrame\n",
    "        self.__swap_value_tree: pd.DataFrame\n",
    "        self.__pstar: float\n",
    "\n",
    "        # Params\n",
    "        self.__T = T\n",
    "        self.__dt = dt\n",
    "        self.__face_value = face_value\n",
    "        self.__A: float\n",
    "        self.__Z: float\n",
    "\n",
    "        # Compute\n",
    "        self.rate_tree = rate_tree\n",
    "\n",
    "    @property\n",
    "    def rate_tree(self) -> pd.DataFrame:\n",
    "        return self.__rate_tree\n",
    "    @rate_tree.setter\n",
    "    def rate_tree(self, tree: pd.DataFrame):\n",
    "        # Perform Checks\n",
    "        if not (tree.index.dtype == 'int64'):\n",
    "            raise Exception(\"Invalid rate_tree. Ensure that index.dtype is type 'int64'.\")\n",
    "        if not (tree.columns.dtype == 'float64'):\n",
    "            raise Exception(\"Invalid rate_tree. Ensure that columns.dtype is type 'float64'.\")\n",
    "        if not (tree.shape[0] == tree.shape[1]):\n",
    "            raise Exception(\"Invalid rate_tree. Ensure that rate_tree shape[0] == shape[1].\")\n",
    "        self.__rate_tree = tree\n",
    "\n",
    "    def calculate_zcbond_price_tree(self, t0_price) -> pd.DataFrame:\n",
    "        self.__bond_tree = pd.DataFrame(dtype=float, index=rate_tree.index, columns=rate_tree.columns)\n",
    "        for i in self.__bond_tree.columns[-1:0:-1]:\n",
    "            self.__bond_tree[i] = np.exp(-rate_tree[i]*(self.__T-i)) * self.__face_value\n",
    "\n",
    "        self.__bond_tree.iloc[0,0] = t0_price\n",
    "        return self.__bond_tree\n",
    "\n",
    "    def calculate_pstar_from_zcbond_tree(self) -> float:\n",
    "        self.__A = np.exp(self.__rate_tree.iloc[0,0] * self.__dt)\n",
    "        self.__Z = np.exp(-self.__rate_tree.iloc[0,0] * self.__dt)\n",
    "\n",
    "        pstar = (self.__A * self.__bond_tree.loc[0,0] - self.__bond_tree.loc[1,self.__dt])/(self.__bond_tree.loc[0,self.__dt] - self.__bond_tree.loc[1,self.__dt])\n",
    "        self.__pstar = pstar\n",
    "        return pstar\n",
    "    \n",
    "    def calculate_swap_payoff_tree(self, payoff_func) -> pd.DataFrame:\n",
    "        self.__swap_payoff_tree = pd.DataFrame(index=self.__rate_tree.index, columns=self.__rate_tree.columns, dtype=float)\n",
    "        self.__swap_payoff_tree.loc[:,self.__dt:] = payoff_func(self.__rate_tree.loc[:,self.__dt:])\n",
    "\n",
    "        return self.__swap_payoff_tree\n",
    "\n",
    "    def calculate_replicating_portfolio(self, quotes) -> pd.DataFrame:\n",
    "        return replicating_port(quotes, self.__bond_tree, self.__swap_payoff_tree)\n",
    "\n",
    "    def calculate_swap_value_tree(self) -> pd.DataFrame:\n",
    "        self.__swap_value_tree = self.__swap_payoff_tree.copy()\n",
    "        self.__swap_value_tree.loc[0,0] = self.__Z * np.array([self.__pstar,1-self.__pstar])@ self.__swap_payoff_tree[self.__dt].values\n",
    "        return self.__swap_value_tree\n",
    "    "
   ]
  }
 ],
 "metadata": {
  "kernelspec": {
   "display_name": "Python 3",
   "language": "python",
   "name": "python3"
  },
  "language_info": {
   "codemirror_mode": {
    "name": "ipython",
    "version": 3
   },
   "file_extension": ".py",
   "mimetype": "text/x-python",
   "name": "python",
   "nbconvert_exporter": "python",
   "pygments_lexer": "ipython3",
   "version": "3.11.5"
  }
 },
 "nbformat": 4,
 "nbformat_minor": 2
}
