{
 "cells": [
  {
   "cell_type": "markdown",
   "metadata": {},
   "source": [
    "# Homework 4\n",
    "\n",
    "## FINM 37500: Fixed Income Derivatives\n",
    "\n",
    "### Mark Hendricks\n",
    "\n",
    "#### Winter 2024"
   ]
  },
  {
   "cell_type": "markdown",
   "metadata": {},
   "source": [
    "***"
   ]
  },
  {
   "cell_type": "markdown",
   "metadata": {},
   "source": [
    "# Data"
   ]
  },
  {
   "cell_type": "markdown",
   "metadata": {},
   "source": [
    "### Note\n",
    "This homework continues with the data from `Homework 3`."
   ]
  },
  {
   "cell_type": "markdown",
   "metadata": {},
   "source": [
    "### Swaption Vol Data\n",
    "\n",
    "The file `data/swaption_vol_data_2024-02-20.xlsx` has market data on the implied volatility skews for swaptions. Note that it has several columns:\n",
    "* `expry`: expiration of the swaption\n",
    "* `tenor`: tenor of the underlying swap\n",
    "* `model`: the model by which the volatility is quoted. (All are Black.)\n",
    "* `-200`, `-100`, etc.: The strike listed as difference from ATM strike (bps). Note that ATM is considered to be the **forward swap rate** which you can calculate."
   ]
  },
  {
   "cell_type": "markdown",
   "metadata": {},
   "source": [
    "Your data: ywill use a single row of this data for the `1x4` swaption.\n",
    "* date: `2024-02-20`\n",
    "* expiration: 1yr\n",
    "* tenor: 4yrs\n",
    "\n",
    "As in `Homework 3`, you will need the forward swap value and the actual strikes being referred to in the provided data (which quotes relative strikes.)"
   ]
  },
  {
   "cell_type": "markdown",
   "metadata": {},
   "source": [
    "# 1. SABR Volatility Modeling"
   ]
  },
  {
   "cell_type": "markdown",
   "metadata": {},
   "source": [
    "Use the quoted volatility skew to fit a SABR model.\n",
    "* Throughout, parameterize, `beta=.75`."
   ]
  },
  {
   "cell_type": "code",
   "execution_count": 10,
   "id": "ee1a4022",
   "metadata": {},
   "outputs": [],
   "source": [
    "import platform\n",
    "if platform.system() == \"Windows\":\n",
    "    BASE_DIR = r'C:\\Users\\Alex\\Desktop\\Academic\\UChicago\\FINM 37500\\finm-fiderivs-2024'\n",
    "else:\n",
    "    BASE_DIR = r'/Users/alexhuang/Documents/Academic/FINM 37500/finm-fiderivs-2024'\n",
    "import sys, os\n",
    "sys.path.append(BASE_DIR)"
   ]
  },
  {
   "cell_type": "code",
   "execution_count": 11,
   "id": "c28adaa3",
   "metadata": {},
   "outputs": [],
   "source": [
    "import pandas as pd\n",
    "import numpy as np\n",
    "\n",
    "from cmds.binomial import *\n",
    "from cmds.ratecurves import *\n",
    "from cmds.volskew import *\n",
    "from cmds.ficcvol import *\n",
    "\n",
    "import matplotlib.pyplot as plt\n",
    "\n",
    "import warnings\n",
    "warnings.filterwarnings('ignore')"
   ]
  },
  {
   "cell_type": "code",
   "execution_count": 12,
   "id": "0b30a9d4",
   "metadata": {},
   "outputs": [
    {
     "data": {
      "text/html": [
       "<div>\n",
       "<style scoped>\n",
       "    .dataframe tbody tr th:only-of-type {\n",
       "        vertical-align: middle;\n",
       "    }\n",
       "\n",
       "    .dataframe tbody tr th {\n",
       "        vertical-align: top;\n",
       "    }\n",
       "\n",
       "    .dataframe thead th {\n",
       "        text-align: right;\n",
       "    }\n",
       "</style>\n",
       "<table border=\"1\" class=\"dataframe\">\n",
       "  <thead>\n",
       "    <tr style=\"text-align: right;\">\n",
       "      <th></th>\n",
       "      <th>reference</th>\n",
       "      <th>instrument</th>\n",
       "      <th>model</th>\n",
       "      <th>date</th>\n",
       "      <th>expiration</th>\n",
       "      <th>tenor</th>\n",
       "      <th>-200</th>\n",
       "      <th>-100</th>\n",
       "      <th>-50</th>\n",
       "      <th>-25</th>\n",
       "      <th>0</th>\n",
       "      <th>25</th>\n",
       "      <th>50</th>\n",
       "      <th>100</th>\n",
       "      <th>200</th>\n",
       "    </tr>\n",
       "  </thead>\n",
       "  <tbody>\n",
       "    <tr>\n",
       "      <th>0</th>\n",
       "      <td>SOFR</td>\n",
       "      <td>swaption</td>\n",
       "      <td>black</td>\n",
       "      <td>2024-02-20</td>\n",
       "      <td>1</td>\n",
       "      <td>4</td>\n",
       "      <td>54.54</td>\n",
       "      <td>40.37</td>\n",
       "      <td>35.94</td>\n",
       "      <td>34.23</td>\n",
       "      <td>32.83</td>\n",
       "      <td>31.71</td>\n",
       "      <td>30.86</td>\n",
       "      <td>29.83</td>\n",
       "      <td>29.54</td>\n",
       "    </tr>\n",
       "  </tbody>\n",
       "</table>\n",
       "</div>"
      ],
      "text/plain": [
       "  reference instrument  model       date  expiration  tenor   -200   -100  \\\n",
       "0      SOFR   swaption  black 2024-02-20           1      4  54.54  40.37   \n",
       "\n",
       "     -50    -25      0     25     50    100    200  \n",
       "0  35.94  34.23  32.83  31.71  30.86  29.83  29.54  "
      ]
     },
     "execution_count": 12,
     "metadata": {},
     "output_type": "execute_result"
    }
   ],
   "source": [
    "vol = pd.read_excel(r'../data/swaption_vol_data.xlsx')\n",
    "vol"
   ]
  },
  {
   "cell_type": "code",
   "execution_count": 13,
   "id": "69129e20",
   "metadata": {
    "scrolled": true
   },
   "outputs": [
    {
     "data": {
      "text/html": [
       "<div>\n",
       "<style scoped>\n",
       "    .dataframe tbody tr th:only-of-type {\n",
       "        vertical-align: middle;\n",
       "    }\n",
       "\n",
       "    .dataframe tbody tr th {\n",
       "        vertical-align: top;\n",
       "    }\n",
       "\n",
       "    .dataframe thead th {\n",
       "        text-align: right;\n",
       "    }\n",
       "</style>\n",
       "<table border=\"1\" class=\"dataframe\">\n",
       "  <thead>\n",
       "    <tr style=\"text-align: right;\">\n",
       "      <th></th>\n",
       "      <th>swap rates</th>\n",
       "      <th>spot rates</th>\n",
       "      <th>discounts</th>\n",
       "      <th>forwards</th>\n",
       "      <th>flat vols</th>\n",
       "      <th>fwd vols</th>\n",
       "    </tr>\n",
       "    <tr>\n",
       "      <th>tenor</th>\n",
       "      <th></th>\n",
       "      <th></th>\n",
       "      <th></th>\n",
       "      <th></th>\n",
       "      <th></th>\n",
       "      <th></th>\n",
       "    </tr>\n",
       "  </thead>\n",
       "  <tbody>\n",
       "    <tr>\n",
       "      <th>0.25</th>\n",
       "      <td>0.052211</td>\n",
       "      <td>0.052211</td>\n",
       "      <td>0.987115</td>\n",
       "      <td>NaN</td>\n",
       "      <td>NaN</td>\n",
       "      <td>NaN</td>\n",
       "    </tr>\n",
       "    <tr>\n",
       "      <th>0.50</th>\n",
       "      <td>0.051540</td>\n",
       "      <td>0.051535</td>\n",
       "      <td>0.974722</td>\n",
       "      <td>0.050860</td>\n",
       "      <td>0.166025</td>\n",
       "      <td>0.166025</td>\n",
       "    </tr>\n",
       "    <tr>\n",
       "      <th>0.75</th>\n",
       "      <td>0.050506</td>\n",
       "      <td>0.050490</td>\n",
       "      <td>0.963069</td>\n",
       "      <td>0.048400</td>\n",
       "      <td>0.191290</td>\n",
       "      <td>0.210648</td>\n",
       "    </tr>\n",
       "    <tr>\n",
       "      <th>1.00</th>\n",
       "      <td>0.049284</td>\n",
       "      <td>0.049250</td>\n",
       "      <td>0.952230</td>\n",
       "      <td>0.045531</td>\n",
       "      <td>0.216554</td>\n",
       "      <td>0.254312</td>\n",
       "    </tr>\n",
       "    <tr>\n",
       "      <th>1.25</th>\n",
       "      <td>0.047631</td>\n",
       "      <td>0.047565</td>\n",
       "      <td>0.942608</td>\n",
       "      <td>0.040831</td>\n",
       "      <td>0.260043</td>\n",
       "      <td>0.361247</td>\n",
       "    </tr>\n",
       "    <tr>\n",
       "      <th>1.50</th>\n",
       "      <td>0.046235</td>\n",
       "      <td>0.046141</td>\n",
       "      <td>0.933499</td>\n",
       "      <td>0.039030</td>\n",
       "      <td>0.292615</td>\n",
       "      <td>0.380930</td>\n",
       "    </tr>\n",
       "    <tr>\n",
       "      <th>1.75</th>\n",
       "      <td>0.045059</td>\n",
       "      <td>0.044939</td>\n",
       "      <td>0.924774</td>\n",
       "      <td>0.037738</td>\n",
       "      <td>0.315878</td>\n",
       "      <td>0.388953</td>\n",
       "    </tr>\n",
       "    <tr>\n",
       "      <th>2.00</th>\n",
       "      <td>0.044133</td>\n",
       "      <td>0.043994</td>\n",
       "      <td>0.916212</td>\n",
       "      <td>0.037382</td>\n",
       "      <td>0.331443</td>\n",
       "      <td>0.386643</td>\n",
       "    </tr>\n",
       "    <tr>\n",
       "      <th>2.25</th>\n",
       "      <td>0.043173</td>\n",
       "      <td>0.043011</td>\n",
       "      <td>0.908230</td>\n",
       "      <td>0.035151</td>\n",
       "      <td>0.340919</td>\n",
       "      <td>0.376247</td>\n",
       "    </tr>\n",
       "    <tr>\n",
       "      <th>2.50</th>\n",
       "      <td>0.042461</td>\n",
       "      <td>0.042283</td>\n",
       "      <td>0.900188</td>\n",
       "      <td>0.035738</td>\n",
       "      <td>0.345916</td>\n",
       "      <td>0.363764</td>\n",
       "    </tr>\n",
       "    <tr>\n",
       "      <th>2.75</th>\n",
       "      <td>0.041934</td>\n",
       "      <td>0.041745</td>\n",
       "      <td>0.892076</td>\n",
       "      <td>0.036373</td>\n",
       "      <td>0.348042</td>\n",
       "      <td>0.353513</td>\n",
       "    </tr>\n",
       "    <tr>\n",
       "      <th>3.00</th>\n",
       "      <td>0.041542</td>\n",
       "      <td>0.041347</td>\n",
       "      <td>0.883906</td>\n",
       "      <td>0.036973</td>\n",
       "      <td>0.348907</td>\n",
       "      <td>0.349207</td>\n",
       "    </tr>\n",
       "    <tr>\n",
       "      <th>3.25</th>\n",
       "      <td>0.041101</td>\n",
       "      <td>0.040896</td>\n",
       "      <td>0.876134</td>\n",
       "      <td>0.035482</td>\n",
       "      <td>0.349778</td>\n",
       "      <td>0.350339</td>\n",
       "    </tr>\n",
       "    <tr>\n",
       "      <th>3.50</th>\n",
       "      <td>0.040690</td>\n",
       "      <td>0.040473</td>\n",
       "      <td>0.868539</td>\n",
       "      <td>0.034978</td>\n",
       "      <td>0.350549</td>\n",
       "      <td>0.351556</td>\n",
       "    </tr>\n",
       "    <tr>\n",
       "      <th>3.75</th>\n",
       "      <td>0.040416</td>\n",
       "      <td>0.040195</td>\n",
       "      <td>0.860726</td>\n",
       "      <td>0.036309</td>\n",
       "      <td>0.350772</td>\n",
       "      <td>0.349233</td>\n",
       "    </tr>\n",
       "    <tr>\n",
       "      <th>4.00</th>\n",
       "      <td>0.040197</td>\n",
       "      <td>0.039974</td>\n",
       "      <td>0.852910</td>\n",
       "      <td>0.036657</td>\n",
       "      <td>0.349998</td>\n",
       "      <td>0.339501</td>\n",
       "    </tr>\n",
       "    <tr>\n",
       "      <th>4.25</th>\n",
       "      <td>0.039940</td>\n",
       "      <td>0.039710</td>\n",
       "      <td>0.845410</td>\n",
       "      <td>0.035486</td>\n",
       "      <td>0.347970</td>\n",
       "      <td>0.322525</td>\n",
       "    </tr>\n",
       "    <tr>\n",
       "      <th>4.50</th>\n",
       "      <td>0.039699</td>\n",
       "      <td>0.039461</td>\n",
       "      <td>0.838026</td>\n",
       "      <td>0.035245</td>\n",
       "      <td>0.345200</td>\n",
       "      <td>0.309744</td>\n",
       "    </tr>\n",
       "    <tr>\n",
       "      <th>4.75</th>\n",
       "      <td>0.039540</td>\n",
       "      <td>0.039301</td>\n",
       "      <td>0.830464</td>\n",
       "      <td>0.036421</td>\n",
       "      <td>0.342387</td>\n",
       "      <td>0.306238</td>\n",
       "    </tr>\n",
       "    <tr>\n",
       "      <th>5.00</th>\n",
       "      <td>0.039432</td>\n",
       "      <td>0.039195</td>\n",
       "      <td>0.822816</td>\n",
       "      <td>0.037180</td>\n",
       "      <td>0.340234</td>\n",
       "      <td>0.311414</td>\n",
       "    </tr>\n",
       "    <tr>\n",
       "      <th>5.25</th>\n",
       "      <td>0.039329</td>\n",
       "      <td>0.039093</td>\n",
       "      <td>0.815264</td>\n",
       "      <td>0.037055</td>\n",
       "      <td>0.339208</td>\n",
       "      <td>0.324078</td>\n",
       "    </tr>\n",
       "    <tr>\n",
       "      <th>5.50</th>\n",
       "      <td>0.039225</td>\n",
       "      <td>0.038990</td>\n",
       "      <td>0.807828</td>\n",
       "      <td>0.036819</td>\n",
       "      <td>0.338844</td>\n",
       "      <td>0.332488</td>\n",
       "    </tr>\n",
       "    <tr>\n",
       "      <th>5.75</th>\n",
       "      <td>0.039127</td>\n",
       "      <td>0.038891</td>\n",
       "      <td>0.800481</td>\n",
       "      <td>0.036713</td>\n",
       "      <td>0.338442</td>\n",
       "      <td>0.331264</td>\n",
       "    </tr>\n",
       "    <tr>\n",
       "      <th>6.00</th>\n",
       "      <td>0.039038</td>\n",
       "      <td>0.038802</td>\n",
       "      <td>0.793191</td>\n",
       "      <td>0.036762</td>\n",
       "      <td>0.337304</td>\n",
       "      <td>0.317965</td>\n",
       "    </tr>\n",
       "    <tr>\n",
       "      <th>6.25</th>\n",
       "      <td>0.038964</td>\n",
       "      <td>0.038728</td>\n",
       "      <td>0.785930</td>\n",
       "      <td>0.036954</td>\n",
       "      <td>0.334939</td>\n",
       "      <td>0.294203</td>\n",
       "    </tr>\n",
       "    <tr>\n",
       "      <th>6.50</th>\n",
       "      <td>0.038902</td>\n",
       "      <td>0.038668</td>\n",
       "      <td>0.778698</td>\n",
       "      <td>0.037151</td>\n",
       "      <td>0.331698</td>\n",
       "      <td>0.273998</td>\n",
       "    </tr>\n",
       "    <tr>\n",
       "      <th>6.75</th>\n",
       "      <td>0.038849</td>\n",
       "      <td>0.038617</td>\n",
       "      <td>0.771503</td>\n",
       "      <td>0.037305</td>\n",
       "      <td>0.328142</td>\n",
       "      <td>0.262325</td>\n",
       "    </tr>\n",
       "    <tr>\n",
       "      <th>7.00</th>\n",
       "      <td>0.038804</td>\n",
       "      <td>0.038574</td>\n",
       "      <td>0.764355</td>\n",
       "      <td>0.037404</td>\n",
       "      <td>0.324831</td>\n",
       "      <td>0.260895</td>\n",
       "    </tr>\n",
       "    <tr>\n",
       "      <th>7.25</th>\n",
       "      <td>0.038763</td>\n",
       "      <td>0.038535</td>\n",
       "      <td>0.757265</td>\n",
       "      <td>0.037451</td>\n",
       "      <td>0.322182</td>\n",
       "      <td>0.268693</td>\n",
       "    </tr>\n",
       "    <tr>\n",
       "      <th>7.50</th>\n",
       "      <td>0.038726</td>\n",
       "      <td>0.038501</td>\n",
       "      <td>0.750230</td>\n",
       "      <td>0.037507</td>\n",
       "      <td>0.320050</td>\n",
       "      <td>0.275091</td>\n",
       "    </tr>\n",
       "    <tr>\n",
       "      <th>7.75</th>\n",
       "      <td>0.038695</td>\n",
       "      <td>0.038471</td>\n",
       "      <td>0.743246</td>\n",
       "      <td>0.037589</td>\n",
       "      <td>0.318148</td>\n",
       "      <td>0.276397</td>\n",
       "    </tr>\n",
       "    <tr>\n",
       "      <th>8.00</th>\n",
       "      <td>0.038668</td>\n",
       "      <td>0.038447</td>\n",
       "      <td>0.736306</td>\n",
       "      <td>0.037699</td>\n",
       "      <td>0.316187</td>\n",
       "      <td>0.271592</td>\n",
       "    </tr>\n",
       "    <tr>\n",
       "      <th>8.25</th>\n",
       "      <td>0.038646</td>\n",
       "      <td>0.038429</td>\n",
       "      <td>0.729407</td>\n",
       "      <td>0.037833</td>\n",
       "      <td>0.313948</td>\n",
       "      <td>0.261350</td>\n",
       "    </tr>\n",
       "    <tr>\n",
       "      <th>8.50</th>\n",
       "      <td>0.038629</td>\n",
       "      <td>0.038415</td>\n",
       "      <td>0.722550</td>\n",
       "      <td>0.037964</td>\n",
       "      <td>0.311483</td>\n",
       "      <td>0.251699</td>\n",
       "    </tr>\n",
       "    <tr>\n",
       "      <th>8.75</th>\n",
       "      <td>0.038616</td>\n",
       "      <td>0.038406</td>\n",
       "      <td>0.715735</td>\n",
       "      <td>0.038085</td>\n",
       "      <td>0.308914</td>\n",
       "      <td>0.244536</td>\n",
       "    </tr>\n",
       "    <tr>\n",
       "      <th>9.00</th>\n",
       "      <td>0.038606</td>\n",
       "      <td>0.038400</td>\n",
       "      <td>0.708966</td>\n",
       "      <td>0.038190</td>\n",
       "      <td>0.306360</td>\n",
       "      <td>0.240251</td>\n",
       "    </tr>\n",
       "    <tr>\n",
       "      <th>9.25</th>\n",
       "      <td>0.038598</td>\n",
       "      <td>0.038396</td>\n",
       "      <td>0.702246</td>\n",
       "      <td>0.038278</td>\n",
       "      <td>0.303943</td>\n",
       "      <td>0.239254</td>\n",
       "    </tr>\n",
       "    <tr>\n",
       "      <th>9.50</th>\n",
       "      <td>0.038593</td>\n",
       "      <td>0.038395</td>\n",
       "      <td>0.695578</td>\n",
       "      <td>0.038344</td>\n",
       "      <td>0.301782</td>\n",
       "      <td>0.241978</td>\n",
       "    </tr>\n",
       "    <tr>\n",
       "      <th>9.75</th>\n",
       "      <td>0.038588</td>\n",
       "      <td>0.038395</td>\n",
       "      <td>0.688967</td>\n",
       "      <td>0.038385</td>\n",
       "      <td>0.300000</td>\n",
       "      <td>0.248893</td>\n",
       "    </tr>\n",
       "    <tr>\n",
       "      <th>10.00</th>\n",
       "      <td>0.038584</td>\n",
       "      <td>0.038395</td>\n",
       "      <td>0.682416</td>\n",
       "      <td>0.038398</td>\n",
       "      <td>0.298715</td>\n",
       "      <td>0.260524</td>\n",
       "    </tr>\n",
       "  </tbody>\n",
       "</table>\n",
       "</div>"
      ],
      "text/plain": [
       "       swap rates  spot rates  discounts  forwards  flat vols  fwd vols\n",
       "tenor                                                                  \n",
       "0.25     0.052211    0.052211   0.987115       NaN        NaN       NaN\n",
       "0.50     0.051540    0.051535   0.974722  0.050860   0.166025  0.166025\n",
       "0.75     0.050506    0.050490   0.963069  0.048400   0.191290  0.210648\n",
       "1.00     0.049284    0.049250   0.952230  0.045531   0.216554  0.254312\n",
       "1.25     0.047631    0.047565   0.942608  0.040831   0.260043  0.361247\n",
       "1.50     0.046235    0.046141   0.933499  0.039030   0.292615  0.380930\n",
       "1.75     0.045059    0.044939   0.924774  0.037738   0.315878  0.388953\n",
       "2.00     0.044133    0.043994   0.916212  0.037382   0.331443  0.386643\n",
       "2.25     0.043173    0.043011   0.908230  0.035151   0.340919  0.376247\n",
       "2.50     0.042461    0.042283   0.900188  0.035738   0.345916  0.363764\n",
       "2.75     0.041934    0.041745   0.892076  0.036373   0.348042  0.353513\n",
       "3.00     0.041542    0.041347   0.883906  0.036973   0.348907  0.349207\n",
       "3.25     0.041101    0.040896   0.876134  0.035482   0.349778  0.350339\n",
       "3.50     0.040690    0.040473   0.868539  0.034978   0.350549  0.351556\n",
       "3.75     0.040416    0.040195   0.860726  0.036309   0.350772  0.349233\n",
       "4.00     0.040197    0.039974   0.852910  0.036657   0.349998  0.339501\n",
       "4.25     0.039940    0.039710   0.845410  0.035486   0.347970  0.322525\n",
       "4.50     0.039699    0.039461   0.838026  0.035245   0.345200  0.309744\n",
       "4.75     0.039540    0.039301   0.830464  0.036421   0.342387  0.306238\n",
       "5.00     0.039432    0.039195   0.822816  0.037180   0.340234  0.311414\n",
       "5.25     0.039329    0.039093   0.815264  0.037055   0.339208  0.324078\n",
       "5.50     0.039225    0.038990   0.807828  0.036819   0.338844  0.332488\n",
       "5.75     0.039127    0.038891   0.800481  0.036713   0.338442  0.331264\n",
       "6.00     0.039038    0.038802   0.793191  0.036762   0.337304  0.317965\n",
       "6.25     0.038964    0.038728   0.785930  0.036954   0.334939  0.294203\n",
       "6.50     0.038902    0.038668   0.778698  0.037151   0.331698  0.273998\n",
       "6.75     0.038849    0.038617   0.771503  0.037305   0.328142  0.262325\n",
       "7.00     0.038804    0.038574   0.764355  0.037404   0.324831  0.260895\n",
       "7.25     0.038763    0.038535   0.757265  0.037451   0.322182  0.268693\n",
       "7.50     0.038726    0.038501   0.750230  0.037507   0.320050  0.275091\n",
       "7.75     0.038695    0.038471   0.743246  0.037589   0.318148  0.276397\n",
       "8.00     0.038668    0.038447   0.736306  0.037699   0.316187  0.271592\n",
       "8.25     0.038646    0.038429   0.729407  0.037833   0.313948  0.261350\n",
       "8.50     0.038629    0.038415   0.722550  0.037964   0.311483  0.251699\n",
       "8.75     0.038616    0.038406   0.715735  0.038085   0.308914  0.244536\n",
       "9.00     0.038606    0.038400   0.708966  0.038190   0.306360  0.240251\n",
       "9.25     0.038598    0.038396   0.702246  0.038278   0.303943  0.239254\n",
       "9.50     0.038593    0.038395   0.695578  0.038344   0.301782  0.241978\n",
       "9.75     0.038588    0.038395   0.688967  0.038385   0.300000  0.248893\n",
       "10.00    0.038584    0.038395   0.682416  0.038398   0.298715  0.260524"
      ]
     },
     "execution_count": 13,
     "metadata": {},
     "output_type": "execute_result"
    }
   ],
   "source": [
    "cap_curves = pd.read_excel(r'../data/cap_curves_2024-02-20.xlsx')\n",
    "cap_curves.set_index('tenor', inplace=True)\n",
    "cap_curves"
   ]
  },
  {
   "cell_type": "markdown",
   "id": "903057ae",
   "metadata": {},
   "source": [
    "## 1.1\n",
    "Estimate $(\\alpha,\\rho,\\nu)$ via the SABR formula. Feel free to use the `sabr` function in `cmds/volskew.py`.\n",
    "\n",
    "Report the values of these parameters."
   ]
  },
  {
   "cell_type": "code",
   "execution_count": 34,
   "id": "9e83a5fc",
   "metadata": {},
   "outputs": [
    {
     "data": {
      "text/plain": [
       "(tenor\n",
       " 0.25     0.987115\n",
       " 0.50     0.974722\n",
       " 0.75     0.963069\n",
       " 1.00     0.952230\n",
       " 1.25     0.942608\n",
       " 1.50     0.933499\n",
       " 1.75     0.924774\n",
       " 2.00     0.916212\n",
       " 2.25     0.908230\n",
       " 2.50     0.900188\n",
       " 2.75     0.892076\n",
       " 3.00     0.883906\n",
       " 3.25     0.876134\n",
       " 3.50     0.868539\n",
       " 3.75     0.860726\n",
       " 4.00     0.852910\n",
       " 4.25     0.845410\n",
       " 4.50     0.838026\n",
       " 4.75     0.830464\n",
       " 5.00     0.822816\n",
       " 5.25     0.815264\n",
       " 5.50     0.807828\n",
       " 5.75     0.800481\n",
       " 6.00     0.793191\n",
       " 6.25     0.785930\n",
       " 6.50     0.778698\n",
       " 6.75     0.771503\n",
       " 7.00     0.764355\n",
       " 7.25     0.757265\n",
       " 7.50     0.750230\n",
       " 7.75     0.743246\n",
       " 8.00     0.736306\n",
       " 8.25     0.729407\n",
       " 8.50     0.722550\n",
       " 8.75     0.715735\n",
       " 9.00     0.708966\n",
       " 9.25     0.702246\n",
       " 9.50     0.695578\n",
       " 9.75     0.688967\n",
       " 10.00    0.682416\n",
       " Name: discounts, dtype: float64,\n",
       " 1,\n",
       " 5)"
      ]
     },
     "execution_count": 34,
     "metadata": {},
     "output_type": "execute_result"
    }
   ],
   "source": [
    "(cap_curves['discounts'], Topt, Tswap)"
   ]
  },
  {
   "cell_type": "code",
   "execution_count": 14,
   "id": "c5f1f18b",
   "metadata": {},
   "outputs": [],
   "source": [
    "tenor = 4\n",
    "Topt = 1\n",
    "Tswap = Topt + tenor\n",
    "\n",
    "forward_swap_rate = calc_fwdswaprate(cap_curves['discounts'], Topt, Tswap, freqswap=4)\n",
    "strikerange = np.array(vol.columns[-9:].tolist())\n",
    "vols = vol[strikerange] / 100\n",
    "strikes = forward_swap_rate + strikerange/100/100\n",
    "\n",
    "period_fwd = cap_curves.index.get_loc(Topt)\n",
    "period_swap = cap_curves.index.get_loc(Tswap)+1\n",
    "\n",
    "discount = cap_curves['discounts'].iloc[period_fwd+1: period_swap].sum() / 4\n",
    "\n",
    "BETA = 0.75\n",
    "F = forward_swap_rate - 1e-8"
   ]
  },
  {
   "cell_type": "code",
   "execution_count": 38,
   "id": "863ff953",
   "metadata": {},
   "outputs": [
    {
     "data": {
      "text/plain": [
       "3.524129268625859"
      ]
     },
     "execution_count": 38,
     "metadata": {},
     "output_type": "execute_result"
    }
   ],
   "source": [
    "discount"
   ]
  },
  {
   "cell_type": "code",
   "execution_count": 15,
   "id": "770689ee",
   "metadata": {},
   "outputs": [],
   "source": [
    "def obj_fun(xargs):\n",
    "    nu = xargs[0]\n",
    "    rho = xargs[1]\n",
    "    alpha = xargs[2]\n",
    "    \n",
    "    ivolSABR = np.zeros(len(strikes))\n",
    "    \n",
    "    for i,strike in enumerate(strikes):\n",
    "         ivolSABR[i] = sabr(BETA,nu,rho,alpha,F,strike,Topt)\n",
    "    \n",
    "    error = ((ivolSABR - vols.values)**2).sum()\n",
    "    \n",
    "    return error"
   ]
  },
  {
   "cell_type": "code",
   "execution_count": 16,
   "id": "9b4a0773",
   "metadata": {},
   "outputs": [],
   "source": [
    "x0 = np.array([0.6, 0, 0.1])\n",
    "optim = minimize(obj_fun, x0)\n",
    "xstar = optim.x\n",
    "nustar = xstar[0]\n",
    "rhostar = xstar[1]\n",
    "alphastar = xstar[2]"
   ]
  },
  {
   "cell_type": "code",
   "execution_count": 17,
   "id": "389ddad1",
   "metadata": {},
   "outputs": [
    {
     "name": "stdout",
     "output_type": "stream",
     "text": [
      "alpha: 0.1411\n",
      "rho: -0.426\n",
      "nu: 0.7769\n"
     ]
    }
   ],
   "source": [
    "print('alpha: ' + str(alphastar.round(4)))\n",
    "print('rho: ' + str(rhostar.round(4)))\n",
    "print('nu: ' + str(nustar.round(4)))"
   ]
  },
  {
   "cell_type": "markdown",
   "id": "c1e5aea3",
   "metadata": {},
   "source": [
    "## 1.2\n",
    "Create a grid of strikes of `[.0025, .09]`, with grid spacing of `10bps`, (.0010).\n",
    "\n",
    "Use the SABR model parameterized above to calculate the volatility for each of these strikes.\n",
    "\n",
    "* Plot the SABR curve, and also include the market quotes in the plot.\n",
    "\n",
    "* Conceptually, does the SABR curve fit these points well? Perfectly?"
   ]
  },
  {
   "cell_type": "code",
   "execution_count": 37,
   "id": "e3836a5e",
   "metadata": {},
   "outputs": [
    {
     "data": {
      "image/png": "[encoded data removed]",
      "text/plain": [
       "<Figure size 640x480 with 1 Axes>"
      ]
     },
     "metadata": {},
     "output_type": "display_data"
    }
   ],
   "source": [
    "strikegrid = np.arange(0.0025, 0.09, 0.0005)\n",
    "\n",
    "ivolgrid = sabr(BETA, nustar, rhostar, alphastar, F, strikegrid, Topt)\n",
    "\n",
    "sabrcurve = pd.DataFrame(ivolgrid,index=strikegrid,columns=['SABR'])\n",
    "\n",
    "volquotes = vols.copy()\n",
    "volquotes\n",
    "volquotes.loc['strike'] = strikes\n",
    "volquotes = volquotes.T.set_index('strike').rename(columns={'implied vol':'market quotes'})\n",
    "\n",
    "fig, ax = plt.subplots()\n",
    "sabrcurve.plot(ax=ax)\n",
    "volquotes.plot(linestyle='',marker='o',markersize=8,ax=ax)\n",
    "plt.legend()\n",
    "plt.show()"
   ]
  },
  {
   "cell_type": "markdown",
   "id": "adeab936",
   "metadata": {},
   "source": [
    "The SABR curve fits these points well but not perfectly. The parameters to the curve are optimized based on the provided market quotes but because of constraints to the function shape, it can't go directly through all the points."
   ]
  },
  {
   "cell_type": "markdown",
   "id": "ca6d7ae7",
   "metadata": {},
   "source": [
    "## 1.3\n",
    "Suppose we want to price the `1y4y` swaption but with a far out-of-the-money strike of `5%`. \n",
    "\n",
    "* Use the SABR vol at this strike to price the swaption.\n",
    "\n",
    "(Note that this strike is far outside the range for which we have market quotes, and even if we do have quotes, they likely are not liquid on a given day.)\n",
    "\n"
   ]
  },
  {
   "cell_type": "code",
   "execution_count": 19,
   "id": "3ce52bfe",
   "metadata": {},
   "outputs": [
    {
     "data": {
      "text/plain": [
       "0.3336"
      ]
     },
     "execution_count": 19,
     "metadata": {},
     "output_type": "execute_result"
    }
   ],
   "source": [
    "NEWSTRIKE = 0.05\n",
    "\n",
    "newvol = sabr(BETA, nustar, rhostar, alphastar, F, NEWSTRIKE, Topt)\n",
    "\n",
    "newprice = 100 * blacks_formula(Topt, newvol, NEWSTRIKE, forward_swap_rate, discount, isCall=True)\n",
    "newprice.round(4)"
   ]
  },
  {
   "cell_type": "markdown",
   "id": "163636d4",
   "metadata": {},
   "source": [
    "## 1.4\n",
    "\n",
    "Use the ATM implied volatility to fit $\\alpha$, (sometimes denoted $\\sigma_0$.) That is, for any choice of $(\\rho,\\nu)$, solve a quadratic equation to get $\\alpha$ as a function of those two parameters, along with $\\beta$, which is at its selected (not estimated) value.\n",
    "\n",
    "Recall that we have a simple relationship between ATM vol and $\\alpha$.\n",
    "$$\\sigma_\\text{ATM} = \\alpha\\frac{B}{F^{1-\\beta}}$$\n",
    "where $B$ is defined in the discussion note. It is a quadratic expression of $\\alpha$ along with $(\\beta,\\rho,\\nu)$.\n",
    "\n",
    "This decouples the optimization. We solve for $(\\rho,\\nu)$ and $\\alpha$ as a function of the other two parameters.\n",
    "\n",
    "Consider using the function `sabrATM` in `cmds/volskew.py`."
   ]
  },
  {
   "cell_type": "code",
   "execution_count": 40,
   "id": "e4dfabe6",
   "metadata": {},
   "outputs": [
    {
     "data": {
      "text/html": [
       "<div>\n",
       "<style scoped>\n",
       "    .dataframe tbody tr th:only-of-type {\n",
       "        vertical-align: middle;\n",
       "    }\n",
       "\n",
       "    .dataframe tbody tr th {\n",
       "        vertical-align: top;\n",
       "    }\n",
       "\n",
       "    .dataframe thead th {\n",
       "        text-align: right;\n",
       "    }\n",
       "</style>\n",
       "<table border=\"1\" class=\"dataframe\">\n",
       "  <thead>\n",
       "    <tr style=\"text-align: right;\">\n",
       "      <th></th>\n",
       "      <th>-200</th>\n",
       "      <th>-100</th>\n",
       "      <th>-50</th>\n",
       "      <th>-25</th>\n",
       "      <th>0</th>\n",
       "      <th>25</th>\n",
       "      <th>50</th>\n",
       "      <th>100</th>\n",
       "      <th>200</th>\n",
       "    </tr>\n",
       "  </thead>\n",
       "  <tbody>\n",
       "    <tr>\n",
       "      <th>0</th>\n",
       "      <td>0.5454</td>\n",
       "      <td>0.4037</td>\n",
       "      <td>0.3594</td>\n",
       "      <td>0.3423</td>\n",
       "      <td>0.3283</td>\n",
       "      <td>0.3171</td>\n",
       "      <td>0.3086</td>\n",
       "      <td>0.2983</td>\n",
       "      <td>0.2954</td>\n",
       "    </tr>\n",
       "  </tbody>\n",
       "</table>\n",
       "</div>"
      ],
      "text/plain": [
       "     -200    -100     -50     -25       0      25      50     100     200\n",
       "0  0.5454  0.4037  0.3594  0.3423  0.3283  0.3171  0.3086  0.2983  0.2954"
      ]
     },
     "execution_count": 40,
     "metadata": {},
     "output_type": "execute_result"
    }
   ],
   "source": [
    "vols"
   ]
  },
  {
   "cell_type": "code",
   "execution_count": 20,
   "id": "0a51a2e2",
   "metadata": {},
   "outputs": [],
   "source": [
    "idstrikeATM = np.where(strikerange==0)[0][0]\n",
    "volATM = vols.iloc[0,idstrikeATM]\n",
    "\n",
    "def obj_fun_slim(xargs):\n",
    "    nu = xargs[0]\n",
    "    rho = xargs[1]\n",
    "    ivolSABR = np.zeros(len(strikes))\n",
    "    \n",
    "    for i,strike in enumerate(strikes):\n",
    "         ivolSABR[i] = sabr_slim(BETA,nu,rho,F,strike,Topt,volATM)\n",
    "    \n",
    "    error = ((ivolSABR - vols.values)**2).sum()\n",
    "    \n",
    "    return error"
   ]
  },
  {
   "cell_type": "code",
   "execution_count": 21,
   "id": "c6d769c9",
   "metadata": {},
   "outputs": [],
   "source": [
    "optim = minimize(obj_fun_slim,x0)\n",
    "xstar_s = optim.x\n",
    "nustar_s = xstar_s[0]\n",
    "rhostar_s = xstar_s[1]\n",
    "alphastar_s = solve_alpha(BETA,nustar_s,rhostar_s,Topt,volATM,F)"
   ]
  },
  {
   "cell_type": "code",
   "execution_count": 22,
   "id": "e6178d49",
   "metadata": {},
   "outputs": [
    {
     "name": "stdout",
     "output_type": "stream",
     "text": [
      "alpha: 0.1414\n",
      "rho: -0.4281\n",
      "nu: 0.7733\n"
     ]
    }
   ],
   "source": [
    "print('alpha: ' + str(alphastar_s.round(4)))\n",
    "print('rho: ' + str(rhostar_s.round(4)))\n",
    "print('nu: ' + str(nustar_s.round(4)))"
   ]
  },
  {
   "cell_type": "markdown",
   "id": "9a1eacb3",
   "metadata": {},
   "source": [
    "***"
   ]
  },
  {
   "cell_type": "markdown",
   "id": "d244d8c3",
   "metadata": {},
   "source": [
    "# 2. SABR and Risk Management"
   ]
  },
  {
   "cell_type": "markdown",
   "id": "256c8a0a",
   "metadata": {},
   "source": [
    "Consider how an **increase** of `50bps` in the underlying rate impacts the price of the `1y4y` ATM swaption.\n",
    "\n",
    "Here, we are assuming that\n",
    "* the rate change will impact the forward swap rate directly, one-for-one with other rates.\n",
    "* the shift happens on `Feb 21, 2024`.\n",
    "\n",
    "Of course, in reality, a rate change\n",
    "* may price in early to some degree if it is expected\n",
    "* may not impact the forward swap rate one-for-one. We would need to model how the discount curve changes and what that change (level, slope, curvature?) would do to the forward swap rate."
   ]
  },
  {
   "cell_type": "markdown",
   "id": "4e1b4bff",
   "metadata": {},
   "source": [
    "## 2.1\n",
    "\n",
    "Use Black's equation to re-price the `1y4y` swaption with\n",
    "* the same ATM volatility\n",
    "* an underlying (forward swap) rate increased `50bps`.\n",
    "* the same time-to-maturities. (We should decrease these all by 1/365, but we focus here on the delta effects rather than the theta. And it would be a small impact anyone.)\n",
    "\n",
    "Report \n",
    "* the new price\n",
    "* the change in price divided by `50bps`, (a numerical delta.)"
   ]
  },
  {
   "cell_type": "code",
   "execution_count": 23,
   "id": "089136b8",
   "metadata": {},
   "outputs": [
    {
     "data": {
      "text/html": [
       "<div>\n",
       "<style scoped>\n",
       "    .dataframe tbody tr th:only-of-type {\n",
       "        vertical-align: middle;\n",
       "    }\n",
       "\n",
       "    .dataframe tbody tr th {\n",
       "        vertical-align: top;\n",
       "    }\n",
       "\n",
       "    .dataframe thead th {\n",
       "        text-align: right;\n",
       "    }\n",
       "</style>\n",
       "<table border=\"1\" class=\"dataframe\">\n",
       "  <thead>\n",
       "    <tr style=\"text-align: right;\">\n",
       "      <th></th>\n",
       "      <th>2024-02-20</th>\n",
       "      <th>shift</th>\n",
       "    </tr>\n",
       "  </thead>\n",
       "  <tbody>\n",
       "    <tr>\n",
       "      <th>static</th>\n",
       "      <td>1.691214</td>\n",
       "      <td>2.817924</td>\n",
       "    </tr>\n",
       "  </tbody>\n",
       "</table>\n",
       "</div>"
      ],
      "text/plain": [
       "        2024-02-20     shift\n",
       "static    1.691214  2.817924"
      ]
     },
     "execution_count": 23,
     "metadata": {},
     "output_type": "execute_result"
    }
   ],
   "source": [
    "SHIFT = 0.005\n",
    "Frange = F + [0, SHIFT]\n",
    "\n",
    "sabrcurve[f'SABR: underlying + {SHIFT*100*100:.0f}bps'] = sabr(BETA,nustar,rhostar,alphastar,F+SHIFT,strikegrid,Topt)\n",
    "\n",
    "idloc = (sabrcurve.index.to_series()-forward_swap_rate).abs().idxmin()\n",
    "newvols = sabrcurve.loc[idloc]\n",
    "strikeATM = strikes[idstrikeATM]\n",
    "\n",
    "# sabr(BETA,nustar,rhostar,alphastar,F+SHIFT,strikegrid,Topt)\n",
    "blackprices = pd.Series(100 * blacks_formula(Topt-np.array([0,1/365]), newvols[0],strikeATM,Frange,discount,isCall=True), index=['2024-02-20','shift'], name='static').to_frame().T\n",
    "blackprices"
   ]
  },
  {
   "cell_type": "code",
   "execution_count": 24,
   "id": "8e021c36",
   "metadata": {},
   "outputs": [
    {
     "data": {
      "text/html": [
       "<div>\n",
       "<style scoped>\n",
       "    .dataframe tbody tr th:only-of-type {\n",
       "        vertical-align: middle;\n",
       "    }\n",
       "\n",
       "    .dataframe tbody tr th {\n",
       "        vertical-align: top;\n",
       "    }\n",
       "\n",
       "    .dataframe thead th {\n",
       "        text-align: right;\n",
       "    }\n",
       "</style>\n",
       "<table border=\"1\" class=\"dataframe\">\n",
       "  <thead>\n",
       "    <tr style=\"text-align: right;\">\n",
       "      <th></th>\n",
       "      <th>delta</th>\n",
       "    </tr>\n",
       "  </thead>\n",
       "  <tbody>\n",
       "    <tr>\n",
       "      <th>static</th>\n",
       "      <td>225.341982</td>\n",
       "    </tr>\n",
       "  </tbody>\n",
       "</table>\n",
       "</div>"
      ],
      "text/plain": [
       "             delta\n",
       "static  225.341982"
      ]
     },
     "execution_count": 24,
     "metadata": {},
     "output_type": "execute_result"
    }
   ],
   "source": [
    "delta = (blackprices.diff(axis=1) / SHIFT)['shift'].rename('delta')\n",
    "delta = pd.DataFrame(delta)\n",
    "delta"
   ]
  },
  {
   "cell_type": "markdown",
   "id": "fac635e9",
   "metadata": {},
   "source": [
    "## 2.2\n",
    "\n",
    "Now, we consider how the volatility may change with the underlying shift of `50bps`.\n",
    "\n",
    "Using the same SABR parameters from `1.1`, and the strike grid from `1.2`, plot the new SABR curve accounting for the underlying rate shifting up `50bps`."
   ]
  },
  {
   "cell_type": "code",
   "execution_count": 25,
   "id": "13df8711",
   "metadata": {},
   "outputs": [
    {
     "data": {
      "image/png": "[encoded data removed]",
      "text/plain": [
       "<Figure size 640x480 with 1 Axes>"
      ]
     },
     "metadata": {},
     "output_type": "display_data"
    }
   ],
   "source": [
    "sabrcurve.plot()\n",
    "plt.show()"
   ]
  },
  {
   "cell_type": "markdown",
   "id": "601365a1",
   "metadata": {},
   "source": [
    "## 2.3\n",
    "\n",
    "Calculate the new volatility specifically for the pre-shift ATM strike.\n",
    "\n",
    "Use this in Black's formula similar to `2.1`, where the only change is the volatility now reflects the shift in the underlying (not the strike).\n",
    "\n",
    "Report\n",
    "* the new price\n",
    "* the change in price divided by `50bps`"
   ]
  },
  {
   "cell_type": "code",
   "execution_count": 26,
   "id": "ce9884b4",
   "metadata": {},
   "outputs": [
    {
     "data": {
      "text/html": [
       "<div>\n",
       "<style scoped>\n",
       "    .dataframe tbody tr th:only-of-type {\n",
       "        vertical-align: middle;\n",
       "    }\n",
       "\n",
       "    .dataframe tbody tr th {\n",
       "        vertical-align: top;\n",
       "    }\n",
       "\n",
       "    .dataframe thead th {\n",
       "        text-align: right;\n",
       "    }\n",
       "</style>\n",
       "<table border=\"1\" class=\"dataframe\">\n",
       "  <thead>\n",
       "    <tr style=\"text-align: right;\">\n",
       "      <th></th>\n",
       "      <th>2024-02-20</th>\n",
       "      <th>shift</th>\n",
       "    </tr>\n",
       "  </thead>\n",
       "  <tbody>\n",
       "    <tr>\n",
       "      <th>static</th>\n",
       "      <td>1.691214</td>\n",
       "      <td>2.817924</td>\n",
       "    </tr>\n",
       "    <tr>\n",
       "      <th>dynamic</th>\n",
       "      <td>1.691214</td>\n",
       "      <td>2.917896</td>\n",
       "    </tr>\n",
       "  </tbody>\n",
       "</table>\n",
       "</div>"
      ],
      "text/plain": [
       "         2024-02-20     shift\n",
       "static     1.691214  2.817924\n",
       "dynamic    1.691214  2.917896"
      ]
     },
     "execution_count": 26,
     "metadata": {},
     "output_type": "execute_result"
    }
   ],
   "source": [
    "blackprices.loc['dynamic'] = 100 * blacks_formula(Topt-np.array([0,1/365]), newvols,strikeATM,Frange,discount,isCall=True)\n",
    "blackprices"
   ]
  },
  {
   "cell_type": "code",
   "execution_count": 27,
   "id": "c6f2e9b3",
   "metadata": {},
   "outputs": [
    {
     "data": {
      "text/html": [
       "<div>\n",
       "<style scoped>\n",
       "    .dataframe tbody tr th:only-of-type {\n",
       "        vertical-align: middle;\n",
       "    }\n",
       "\n",
       "    .dataframe tbody tr th {\n",
       "        vertical-align: top;\n",
       "    }\n",
       "\n",
       "    .dataframe thead th {\n",
       "        text-align: right;\n",
       "    }\n",
       "</style>\n",
       "<table border=\"1\" class=\"dataframe\">\n",
       "  <thead>\n",
       "    <tr style=\"text-align: right;\">\n",
       "      <th></th>\n",
       "      <th>delta</th>\n",
       "    </tr>\n",
       "  </thead>\n",
       "  <tbody>\n",
       "    <tr>\n",
       "      <th>static</th>\n",
       "      <td>225.341982</td>\n",
       "    </tr>\n",
       "    <tr>\n",
       "      <th>dynamic</th>\n",
       "      <td>245.336324</td>\n",
       "    </tr>\n",
       "  </tbody>\n",
       "</table>\n",
       "</div>"
      ],
      "text/plain": [
       "              delta\n",
       "static   225.341982\n",
       "dynamic  245.336324"
      ]
     },
     "execution_count": 27,
     "metadata": {},
     "output_type": "execute_result"
    }
   ],
   "source": [
    "delta = (blackprices.diff(axis=1) / SHIFT)['shift'].rename('delta')\n",
    "delta = pd.DataFrame(delta)\n",
    "delta"
   ]
  },
  {
   "cell_type": "markdown",
   "id": "9d77d820",
   "metadata": {},
   "source": [
    "## 2.4\n",
    "\n",
    "How much different is the (dynamic) delta which accounts for the shift in volatility from the (static) delta in `2.1`?"
   ]
  },
  {
   "cell_type": "code",
   "execution_count": 28,
   "id": "c6b63344",
   "metadata": {},
   "outputs": [
    {
     "data": {
      "text/plain": [
       "0.0887"
      ]
     },
     "execution_count": 28,
     "metadata": {},
     "output_type": "execute_result"
    }
   ],
   "source": [
    "delta.pct_change().loc['dynamic'][0].round(4)"
   ]
  },
  {
   "cell_type": "markdown",
   "metadata": {},
   "source": [
    "The dynamic delta that accounts for the shift in volatility from the static delta in 2.1 is about 9% higher."
   ]
  },
  {
   "cell_type": "markdown",
   "metadata": {},
   "source": [
    "***"
   ]
  }
 ],
 "metadata": {
  "hide_input": false,
  "kernelspec": {
   "display_name": "Python 3",
   "language": "python",
   "name": "python3"
  },
  "language_info": {
   "codemirror_mode": {
    "name": "ipython",
    "version": 3
   },
   "file_extension": ".py",
   "mimetype": "text/x-python",
   "name": "python",
   "nbconvert_exporter": "python",
   "pygments_lexer": "ipython3",
   "version": "3.11.5"
  }
 },
 "nbformat": 4,
 "nbformat_minor": 5
}
