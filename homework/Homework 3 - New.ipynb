{
 "cells": [
  {
   "cell_type": "markdown",
   "id": "ca82052b",
   "metadata": {},
   "source": [
    "# Homework 3\n",
    "\n",
    "## FINM 37500: Fixed Income Derivatives\n",
    "\n",
    "### Mark Hendricks\n",
    "\n",
    "#### Winter 2024"
   ]
  },
  {
   "cell_type": "code",
   "execution_count": 3,
   "id": "280e3a4e",
   "metadata": {},
   "outputs": [],
   "source": [
    "import numpy as np\n",
    "import pandas as pd\n",
    "\n",
    "BASE_DIR = r'C:\\Users\\Alex\\Desktop\\Academic\\UChicago\\FINM 37500\\finm-fiderivs-2024'\n",
    "import sys, os\n",
    "sys.path.append(BASE_DIR)\n",
    "\n",
    "from cmds.binomial import *\n",
    "from cmds.ratecurves import *\n",
    "from cmds.volskew import *\n",
    "from cmds.ficcvol import *\n",
    "from cmds.fi_binomial_model import FIBinomialModel"
   ]
  },
  {
   "cell_type": "markdown",
   "id": "b68b6b5c",
   "metadata": {},
   "source": [
    "# 1. Modeling the Volatility Smile"
   ]
  },
  {
   "cell_type": "markdown",
   "id": "cfebfc72",
   "metadata": {},
   "source": [
    "## Swaption Vol Data\n",
    "\n",
    "The file `data/swaption_vol_data_2024-02-20.xlsx` has market data on the implied volatility skews for swaptions. Note that it has several columns:\n",
    "* `expry`: expiration of the swaption\n",
    "* `tenor`: tenor of the underlying swap\n",
    "* `model`: the model by which the volatility is quoted. (All are Black.)\n",
    "* `-200`, `-100`, etc.: The strike listed as difference from ATM strike (bps). Note that ATM is considered to be the **forward swapa rate** which you can calculate."
   ]
  },
  {
   "cell_type": "markdown",
   "id": "990b0bf8",
   "metadata": {},
   "source": [
    "Your data: ywill use a single row of this data for the `1x4` swaption.\n",
    "* date: `2024-02-20`\n",
    "* expiration: 1yr\n",
    "* tenor: 4yrs"
   ]
  },
  {
   "cell_type": "markdown",
   "id": "962e73a1",
   "metadata": {},
   "source": [
    "## Rate Data\n",
    "\n",
    "The file `data/cap_quotes_2024-02-20.xlsx` gives \n",
    "* SOFR swap rates, \n",
    "* their associated discount factors\n",
    "* their associated forward interest rates.\n",
    "\n",
    "You will not need the cap data (flat or forward vols) for this problem.\n",
    "* This cap data would be helpful in calibrating a binomial tree, but this problem focuses on Black's formula and SABR."
   ]
  },
  {
   "cell_type": "markdown",
   "id": "a11eb456",
   "metadata": {},
   "source": [
    "## The Swaption\n",
    "\n",
    "Consider the following swaption with the following features:\n",
    "* underlying is a fixed-for-floating (SOFR) swap\n",
    "* the underlying swap has **quarterly** payment frequency\n",
    "* this is a **payer** swaption, which gives the holder the option to **pay** the fixed swap rate and receive SOFR."
   ]
  },
  {
   "cell_type": "code",
   "execution_count": 5,
   "id": "3d320ebb",
   "metadata": {},
   "outputs": [
    {
     "data": {
      "text/html": [
       "<div>\n",
       "<style scoped>\n",
       "    .dataframe tbody tr th:only-of-type {\n",
       "        vertical-align: middle;\n",
       "    }\n",
       "\n",
       "    .dataframe tbody tr th {\n",
       "        vertical-align: top;\n",
       "    }\n",
       "\n",
       "    .dataframe thead th {\n",
       "        text-align: right;\n",
       "    }\n",
       "</style>\n",
       "<table border=\"1\" class=\"dataframe\">\n",
       "  <thead>\n",
       "    <tr style=\"text-align: right;\">\n",
       "      <th></th>\n",
       "      <th>date</th>\n",
       "      <th>USCNSQ1 SMKO Curncy</th>\n",
       "      <th>USCNSQ2 SMKO Curncy</th>\n",
       "      <th>USCNSQ3 SMKO Curncy</th>\n",
       "      <th>USCNSQ4 SMKO Curncy</th>\n",
       "      <th>USCNSQ5 SMKO Curncy</th>\n",
       "      <th>USCNSQ6 SMKO Curncy</th>\n",
       "      <th>USCNSQ7 SMKO Curncy</th>\n",
       "      <th>USCNSQ8 SMKO Curncy</th>\n",
       "      <th>USCNSQ9 SMKO Curncy</th>\n",
       "      <th>USCNSQ10 SMKO Curncy</th>\n",
       "    </tr>\n",
       "  </thead>\n",
       "  <tbody>\n",
       "    <tr>\n",
       "      <th>0</th>\n",
       "      <td>maturity</td>\n",
       "      <td>1.002053</td>\n",
       "      <td>2.001369</td>\n",
       "      <td>3.000684</td>\n",
       "      <td>4.0</td>\n",
       "      <td>5.002053</td>\n",
       "      <td>6.001369</td>\n",
       "      <td>7.000684</td>\n",
       "      <td>8.0</td>\n",
       "      <td>9.002053</td>\n",
       "      <td>10.001369</td>\n",
       "    </tr>\n",
       "    <tr>\n",
       "      <th>1</th>\n",
       "      <td>2022-03-17 00:00:00</td>\n",
       "      <td>127.300000</td>\n",
       "      <td>108.500000</td>\n",
       "      <td>109.900000</td>\n",
       "      <td>108.5</td>\n",
       "      <td>107.300000</td>\n",
       "      <td>104.300000</td>\n",
       "      <td>101.000000</td>\n",
       "      <td>97.7</td>\n",
       "      <td>95.200000</td>\n",
       "      <td>93.200000</td>\n",
       "    </tr>\n",
       "    <tr>\n",
       "      <th>2</th>\n",
       "      <td>2022-03-18 00:00:00</td>\n",
       "      <td>96.200000</td>\n",
       "      <td>104.900000</td>\n",
       "      <td>108.000000</td>\n",
       "      <td>108.5</td>\n",
       "      <td>108.000000</td>\n",
       "      <td>105.000000</td>\n",
       "      <td>101.800000</td>\n",
       "      <td>98.3</td>\n",
       "      <td>95.400000</td>\n",
       "      <td>93.400000</td>\n",
       "    </tr>\n",
       "    <tr>\n",
       "      <th>3</th>\n",
       "      <td>2022-03-21 00:00:00</td>\n",
       "      <td>96.200000</td>\n",
       "      <td>105.000000</td>\n",
       "      <td>108.100000</td>\n",
       "      <td>108.5</td>\n",
       "      <td>107.900000</td>\n",
       "      <td>105.000000</td>\n",
       "      <td>101.700000</td>\n",
       "      <td>98.2</td>\n",
       "      <td>95.400000</td>\n",
       "      <td>93.400000</td>\n",
       "    </tr>\n",
       "    <tr>\n",
       "      <th>4</th>\n",
       "      <td>2022-03-22 00:00:00</td>\n",
       "      <td>75.100000</td>\n",
       "      <td>108.300000</td>\n",
       "      <td>115.200000</td>\n",
       "      <td>115.3</td>\n",
       "      <td>113.600000</td>\n",
       "      <td>109.900000</td>\n",
       "      <td>106.300000</td>\n",
       "      <td>102.8</td>\n",
       "      <td>99.900000</td>\n",
       "      <td>97.500000</td>\n",
       "    </tr>\n",
       "  </tbody>\n",
       "</table>\n",
       "</div>"
      ],
      "text/plain": [
       "                  date  USCNSQ1 SMKO Curncy  USCNSQ2 SMKO Curncy  \\\n",
       "0             maturity             1.002053             2.001369   \n",
       "1  2022-03-17 00:00:00           127.300000           108.500000   \n",
       "2  2022-03-18 00:00:00            96.200000           104.900000   \n",
       "3  2022-03-21 00:00:00            96.200000           105.000000   \n",
       "4  2022-03-22 00:00:00            75.100000           108.300000   \n",
       "\n",
       "   USCNSQ3 SMKO Curncy  USCNSQ4 SMKO Curncy  USCNSQ5 SMKO Curncy  \\\n",
       "0             3.000684                  4.0             5.002053   \n",
       "1           109.900000                108.5           107.300000   \n",
       "2           108.000000                108.5           108.000000   \n",
       "3           108.100000                108.5           107.900000   \n",
       "4           115.200000                115.3           113.600000   \n",
       "\n",
       "   USCNSQ6 SMKO Curncy  USCNSQ7 SMKO Curncy  USCNSQ8 SMKO Curncy  \\\n",
       "0             6.001369             7.000684                  8.0   \n",
       "1           104.300000           101.000000                 97.7   \n",
       "2           105.000000           101.800000                 98.3   \n",
       "3           105.000000           101.700000                 98.2   \n",
       "4           109.900000           106.300000                102.8   \n",
       "\n",
       "   USCNSQ9 SMKO Curncy  USCNSQ10 SMKO Curncy  \n",
       "0             9.002053             10.001369  \n",
       "1            95.200000             93.200000  \n",
       "2            95.400000             93.400000  \n",
       "3            95.400000             93.400000  \n",
       "4            99.900000             97.500000  "
      ]
     },
     "execution_count": 5,
     "metadata": {},
     "output_type": "execute_result"
    }
   ],
   "source": [
    "cap_df = pd.read_excel(r'../data/cap_quotes_2024-02-20.xlsx')\n",
    "cap_df.head(5)"
   ]
  },
  {
   "cell_type": "code",
   "execution_count": 6,
   "id": "8a157b50",
   "metadata": {},
   "outputs": [
    {
     "data": {
      "text/html": [
       "<div>\n",
       "<style scoped>\n",
       "    .dataframe tbody tr th:only-of-type {\n",
       "        vertical-align: middle;\n",
       "    }\n",
       "\n",
       "    .dataframe tbody tr th {\n",
       "        vertical-align: top;\n",
       "    }\n",
       "\n",
       "    .dataframe thead th {\n",
       "        text-align: right;\n",
       "    }\n",
       "</style>\n",
       "<table border=\"1\" class=\"dataframe\">\n",
       "  <thead>\n",
       "    <tr style=\"text-align: right;\">\n",
       "      <th></th>\n",
       "      <th>reference</th>\n",
       "      <th>instrument</th>\n",
       "      <th>model</th>\n",
       "      <th>date</th>\n",
       "      <th>expiration</th>\n",
       "      <th>tenor</th>\n",
       "      <th>-200</th>\n",
       "      <th>-100</th>\n",
       "      <th>-50</th>\n",
       "      <th>-25</th>\n",
       "      <th>0</th>\n",
       "      <th>25</th>\n",
       "      <th>50</th>\n",
       "      <th>100</th>\n",
       "      <th>200</th>\n",
       "    </tr>\n",
       "  </thead>\n",
       "  <tbody>\n",
       "    <tr>\n",
       "      <th>0</th>\n",
       "      <td>SOFR</td>\n",
       "      <td>swaption</td>\n",
       "      <td>black</td>\n",
       "      <td>2024-02-20</td>\n",
       "      <td>1</td>\n",
       "      <td>4</td>\n",
       "      <td>54.54</td>\n",
       "      <td>40.37</td>\n",
       "      <td>35.94</td>\n",
       "      <td>34.23</td>\n",
       "      <td>32.83</td>\n",
       "      <td>31.71</td>\n",
       "      <td>30.86</td>\n",
       "      <td>29.83</td>\n",
       "      <td>29.54</td>\n",
       "    </tr>\n",
       "  </tbody>\n",
       "</table>\n",
       "</div>"
      ],
      "text/plain": [
       "  reference instrument  model       date  expiration  tenor   -200   -100  \\\n",
       "0      SOFR   swaption  black 2024-02-20           1      4  54.54  40.37   \n",
       "\n",
       "     -50    -25      0     25     50    100    200  \n",
       "0  35.94  34.23  32.83  31.71  30.86  29.83  29.54  "
      ]
     },
     "execution_count": 6,
     "metadata": {},
     "output_type": "execute_result"
    }
   ],
   "source": [
    "swap_vol_df = pd.read_excel(r'../data/swaption_vol_data.xlsx')\n",
    "swap_vol_df"
   ]
  },
  {
   "cell_type": "markdown",
   "id": "934185d4",
   "metadata": {},
   "source": [
    "## 1.1\n",
    "Calculate the (relevant) forward swap rate. That is, the one-year forward 4-year swap rate."
   ]
  },
  {
   "cell_type": "code",
   "execution_count": null,
   "id": "9de29192",
   "metadata": {},
   "outputs": [],
   "source": [
    "calc_fwdswaprate(cap_curves['discounts'], start, end, freqswap=4)"
   ]
  },
  {
   "cell_type": "markdown",
   "id": "c369706a",
   "metadata": {},
   "source": [
    "\n",
    "## 1.2\n",
    "Price the swaptions at the quoted implied volatilites and corresponding strikes, all using the just-calculated forward swap rate as the underlying."
   ]
  },
  {
   "cell_type": "markdown",
   "id": "5475e8f4",
   "metadata": {},
   "source": [
    "## 1.3\n",
    "To consider how the expiration and tenor matter, calculate the prices of a few other swaptions for comparison. \n",
    "* No need to get other implied vol quotes--just use the ATM implied vol you have for the 1x2 above. (Here we are just interested in how Black's formula changes with changes in tenor and expiration.\n",
    "* No need to calculate for all the strikes--just do the ATM strike.\n",
    "\n",
    "Alternate swaptions\n",
    "* The 3mo x 4yr swaption\n",
    "* The 2yr x 4yr swaption\n",
    "* the 1yr x 2yr swaption\n",
    "\n",
    "Report these values and compare them to the price of the `1y x 4y` swaption."
   ]
  },
  {
   "cell_type": "markdown",
   "id": "e9746e05",
   "metadata": {},
   "source": [
    "***"
   ]
  },
  {
   "cell_type": "markdown",
   "id": "f2a00b41",
   "metadata": {},
   "source": [
    "# 2. Pricing w/ BDT"
   ]
  },
  {
   "cell_type": "markdown",
   "id": "d2ac5d05",
   "metadata": {},
   "source": [
    "Use the data in `cap_curves_2024-02-20.xlsx`."
   ]
  },
  {
   "cell_type": "code",
   "execution_count": 7,
   "id": "5c633f5a",
   "metadata": {},
   "outputs": [
    {
     "data": {
      "text/html": [
       "<div>\n",
       "<style scoped>\n",
       "    .dataframe tbody tr th:only-of-type {\n",
       "        vertical-align: middle;\n",
       "    }\n",
       "\n",
       "    .dataframe tbody tr th {\n",
       "        vertical-align: top;\n",
       "    }\n",
       "\n",
       "    .dataframe thead th {\n",
       "        text-align: right;\n",
       "    }\n",
       "</style>\n",
       "<table border=\"1\" class=\"dataframe\">\n",
       "  <thead>\n",
       "    <tr style=\"text-align: right;\">\n",
       "      <th></th>\n",
       "      <th>tenor</th>\n",
       "      <th>swap rates</th>\n",
       "      <th>spot rates</th>\n",
       "      <th>discounts</th>\n",
       "      <th>forwards</th>\n",
       "      <th>flat vols</th>\n",
       "      <th>fwd vols</th>\n",
       "    </tr>\n",
       "  </thead>\n",
       "  <tbody>\n",
       "    <tr>\n",
       "      <th>0</th>\n",
       "      <td>0.25</td>\n",
       "      <td>0.052211</td>\n",
       "      <td>0.052211</td>\n",
       "      <td>0.987115</td>\n",
       "      <td>NaN</td>\n",
       "      <td>NaN</td>\n",
       "      <td>NaN</td>\n",
       "    </tr>\n",
       "    <tr>\n",
       "      <th>1</th>\n",
       "      <td>0.50</td>\n",
       "      <td>0.051540</td>\n",
       "      <td>0.051535</td>\n",
       "      <td>0.974722</td>\n",
       "      <td>0.050860</td>\n",
       "      <td>0.166025</td>\n",
       "      <td>0.166025</td>\n",
       "    </tr>\n",
       "    <tr>\n",
       "      <th>2</th>\n",
       "      <td>0.75</td>\n",
       "      <td>0.050506</td>\n",
       "      <td>0.050490</td>\n",
       "      <td>0.963069</td>\n",
       "      <td>0.048400</td>\n",
       "      <td>0.191290</td>\n",
       "      <td>0.210648</td>\n",
       "    </tr>\n",
       "    <tr>\n",
       "      <th>3</th>\n",
       "      <td>1.00</td>\n",
       "      <td>0.049284</td>\n",
       "      <td>0.049250</td>\n",
       "      <td>0.952230</td>\n",
       "      <td>0.045531</td>\n",
       "      <td>0.216554</td>\n",
       "      <td>0.254312</td>\n",
       "    </tr>\n",
       "    <tr>\n",
       "      <th>4</th>\n",
       "      <td>1.25</td>\n",
       "      <td>0.047631</td>\n",
       "      <td>0.047565</td>\n",
       "      <td>0.942608</td>\n",
       "      <td>0.040831</td>\n",
       "      <td>0.260043</td>\n",
       "      <td>0.361247</td>\n",
       "    </tr>\n",
       "  </tbody>\n",
       "</table>\n",
       "</div>"
      ],
      "text/plain": [
       "   tenor  swap rates  spot rates  discounts  forwards  flat vols  fwd vols\n",
       "0   0.25    0.052211    0.052211   0.987115       NaN        NaN       NaN\n",
       "1   0.50    0.051540    0.051535   0.974722  0.050860   0.166025  0.166025\n",
       "2   0.75    0.050506    0.050490   0.963069  0.048400   0.191290  0.210648\n",
       "3   1.00    0.049284    0.049250   0.952230  0.045531   0.216554  0.254312\n",
       "4   1.25    0.047631    0.047565   0.942608  0.040831   0.260043  0.361247"
      ]
     },
     "execution_count": 7,
     "metadata": {},
     "output_type": "execute_result"
    }
   ],
   "source": [
    "cap_curves_df = pd.read_excel(r'../data/cap_curves_2024-02-20.xlsx')\n",
    "cap_curves_df.head(5)"
   ]
  },
  {
   "cell_type": "markdown",
   "id": "833dcc00",
   "metadata": {},
   "source": [
    "## 2.1\n",
    "\n",
    "Calibrate the BDT Tree\n",
    "* theta to fit the term structure discounts.\n",
    "* sigma to fit the fwd vols from the cap data.\n",
    "\n",
    "Report the rate tree through $T=5$. Report trees for rates compounded\n",
    "* continuously\n",
    "* annually"
   ]
  },
  {
   "cell_type": "markdown",
   "id": "db143f00",
   "metadata": {},
   "source": [
    "## 2.2\n",
    "\n",
    "Use a tree to price a vanilla fixed-rate, 5-year bond with coupon rate equal to the forward swap rate calculated in problem `1.1.`"
   ]
  },
  {
   "cell_type": "markdown",
   "id": "fd919c2a",
   "metadata": {},
   "source": [
    "## 2.3"
   ]
  },
  {
   "cell_type": "markdown",
   "id": "de00e13f",
   "metadata": {},
   "source": [
    "We will calculate the binomial tree for the 5-year swap, but here we do so by valuing the swap as...\n",
    "\n",
    "$$\\text{payer swap} = \\text{floating rate note} - \\text{fixed-rate bond}$$\n",
    "\n",
    "Recall for the Floating-Rate Note:\n",
    "* It has par value of 100 at each reset date.\n",
    "* Every node is a reset date given the assumptions of the swap timing.\n",
    "\n",
    "Report the tree for the 5-year swap."
   ]
  },
  {
   "cell_type": "markdown",
   "id": "8ed71f2a",
   "metadata": {},
   "source": [
    "## 2.4\n",
    "\n"
   ]
  },
  {
   "cell_type": "markdown",
   "id": "3d24ccdf",
   "metadata": {},
   "source": [
    "Report the binomial tree for the one-year swaption on a 4-year swap with **european** exercise.\n",
    "* At expiration, the swap tree from 2.3 will have 4 years left, as desired for pricing the 1y-4y swaption."
   ]
  },
  {
   "cell_type": "markdown",
   "id": "3456d9fb",
   "metadata": {},
   "source": [
    "## 2.5\n",
    "\n",
    "Compare the pricing of the 1y4y swaption from Black's formula in Section 1 vs the binomial tree."
   ]
  },
  {
   "cell_type": "markdown",
   "id": "9b48f775",
   "metadata": {},
   "source": [
    "## 2.6\n",
    "\n",
    "Reprice the swaption using the BDT tree, but this time assuming it is **american**-style exercise."
   ]
  },
  {
   "cell_type": "markdown",
   "id": "3f8b5904",
   "metadata": {},
   "source": [
    "***"
   ]
  },
  {
   "cell_type": "markdown",
   "id": "4723c360",
   "metadata": {},
   "source": [
    "# 3. Midcurve Swaptions"
   ]
  },
  {
   "cell_type": "markdown",
   "id": "d82b9549",
   "metadata": {},
   "source": [
    "## 3.1 \n",
    "\n",
    "Use the BDT tree from section 2 to price a **european** midcurve swaption 1y$\\rightarrow$2y$\\rightarrow$2y."
   ]
  },
  {
   "cell_type": "markdown",
   "id": "9778a9a9",
   "metadata": {},
   "source": [
    "## 3.2\n",
    "\n",
    "Price the **american** midcurve swaption 1y$\\rightarrow$2y$\\rightarrow$2y."
   ]
  },
  {
   "cell_type": "markdown",
   "id": "87c2a446",
   "metadata": {},
   "source": [
    "***"
   ]
  }
 ],
 "metadata": {
  "hide_input": false,
  "kernelspec": {
   "display_name": "Python 3 (ipykernel)",
   "language": "python",
   "name": "python3"
  },
  "language_info": {
   "codemirror_mode": {
    "name": "ipython",
    "version": 3
   },
   "file_extension": ".py",
   "mimetype": "text/x-python",
   "name": "python",
   "nbconvert_exporter": "python",
   "pygments_lexer": "ipython3",
   "version": "3.11.5"
  }
 },
 "nbformat": 4,
 "nbformat_minor": 5
}
